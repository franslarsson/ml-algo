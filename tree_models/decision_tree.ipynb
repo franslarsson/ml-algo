{
 "cells": [
  {
   "cell_type": "code",
   "execution_count": 1,
   "metadata": {},
   "outputs": [],
   "source": [
    "%matplotlib inline"
   ]
  },
  {
   "cell_type": "code",
   "execution_count": 2,
   "metadata": {},
   "outputs": [],
   "source": [
    "import numpy as np\n",
    "import matplotlib.pyplot as plt\n",
    "import seaborn as sns\n",
    "sns.set()"
   ]
  },
  {
   "cell_type": "code",
   "execution_count": 3,
   "metadata": {},
   "outputs": [],
   "source": [
    "import inspect\n",
    "\n",
    "from decision_tree import DecisionTree, ClassificationTree, TreeNode, Leaf"
   ]
  },
  {
   "cell_type": "markdown",
   "metadata": {},
   "source": [
    "# Decision Tree"
   ]
  },
  {
   "cell_type": "markdown",
   "metadata": {},
   "source": [
    "This notebook explains and shows the implementation of decision trees. This model can be used for both supervised classification and regression problems. In this notebook we will focus on binary classification problems, however the ideas presented here can be adapted to regression problems as well. \n",
    "\n",
    "The implementation can be found in __decision_tree.py__. "
   ]
  },
  {
   "cell_type": "markdown",
   "metadata": {},
   "source": [
    "## 1 Background"
   ]
  },
  {
   "cell_type": "markdown",
   "metadata": {},
   "source": [
    "A decision tree can be described as a set of rules which are applied to the data sequentially in order to get a prediction. Let´s consider the data set below: "
   ]
  },
  {
   "cell_type": "code",
   "execution_count": 4,
   "metadata": {},
   "outputs": [
    {
     "data": {
      "image/png": "[encoded data removed]",
      "text/plain": [
       "<Figure size 720x432 with 1 Axes>"
      ]
     },
     "metadata": {},
     "output_type": "display_data"
    }
   ],
   "source": [
    "X = np.array([[1, 0.2], [0.2, 0.4], [1.5, 0.6], [3, 2], [2.1, 2.2], \n",
    "              [2.5, 1.5], [3, 0.4], [0.1, 2.1], [0.8, 2], [0.3, 1]])\n",
    "y = [0, 0, 0, 0, 0, 1, 1, 1, 1, 1]\n",
    "\n",
    "f, ax = plt.subplots(1, 1, figsize=(10, 6))\n",
    "sns.scatterplot(x=X[:,0], y=X[:,1], hue=y, style=y, legend=None, ax=ax)\n",
    "ax.set_ylabel('$x_2$')\n",
    "ax.set_xlabel('$x_1$')\n",
    "plt.show()"
   ]
  },
  {
   "cell_type": "markdown",
   "metadata": {},
   "source": [
    "To classify the 2 classes correctly we could draw two lines which seperates them from each other as in the figure below and then classify anything that ends up in the bottom left or top right as one class and in the other two regions as the other class.  "
   ]
  },
  {
   "cell_type": "code",
   "execution_count": 5,
   "metadata": {},
   "outputs": [
    {
     "data": {
      "image/png": "[encoded data removed]",
      "text/plain": [
       "<Figure size 720x432 with 1 Axes>"
      ]
     },
     "metadata": {},
     "output_type": "display_data"
    }
   ],
   "source": [
    "f, ax = plt.subplots(1, 1, figsize=(10, 6))\n",
    "sns.scatterplot(x=X[:,0], y=X[:,1], hue=y, style=y, legend=None, ax=ax)\n",
    "ax.axvline(x=1.7, color='r')\n",
    "ax.hlines(y=0.8, xmin=-0.5, xmax=1.7, color='r')\n",
    "ax.hlines(y=1.7, xmin=1.7, xmax=3.5, color='r')\n",
    "plt.show()"
   ]
  },
  {
   "cell_type": "markdown",
   "metadata": {},
   "source": [
    "## 2 Theory\n",
    "Let's denote the data set by $X$ and the two partitions by $X_{left}$ and $X_{right}$. Then we want to find a feature $x_j$ and split value $c$ which leads to as pure partitions as possible given som impurity measure $J$. I.e. given the feature $x_j$ we want to find $c$ such that \n",
    "\n",
    "\\begin{equation}\n",
    "\\label{eq:splitval}\n",
    "\\underset{c}{\\min}\\overset{m}{\\underset{i=1}{\\sum}} (J(y^{(i)})\\unicode{x1D7D9}_{\\{x^{(i)} \\in X_{left}\\}} +\n",
    "   J(y^{(i)})\\unicode{x1D7D9}_{\\{x^{(i)} \\in X_{right}\\}})\n",
    "\\end{equation}\n",
    "where $X_{left} = \\{X^{(i)} : X_j^{(i)} \\leq c\\}$ and $X_{right} = \\{X^{(i)} : X_j^{(i)} > c\\}$.\n",
    "\n",
    "Thus the problem of finding the two partitions can be formulated as \n",
    "\n",
    "$$\\underset{j}{\\min}\\underset{c}{\\min}\\overset{m}{\\underset{i=1}{\\sum}} (J(y^{(i)})\\unicode{x1D7D9}_{\\{x^{(i)} \\in X_{left}\\}} +\n",
    "   J(y^{(i)})\\unicode{x1D7D9}_{\\{x^{(i)} \\in X_{right}\\}})$$"
   ]
  },
  {
   "cell_type": "markdown",
   "metadata": {},
   "source": [
    "The choice of impurity measure depends on if the problem is a classification problem or a regression problem. In the latter case the mean squared error can be used, i.e. \n",
    "$$J(y^{(i)}, \\hat{y}^{(i)}) = (y^{(i)} - \\hat{y}^{(i)})^2$$\n",
    "\n",
    "For classification problem we can use the gini impurity \n",
    "$$J_{gini} = \\underset{k=1}{\\overset{K}{\\sum}}\\hat{p}_k (1 - \\hat{p}_k)$$\n",
    "or the entropy impurity\n",
    "$$J_{entropy} = \\underset{k=1}{\\overset{K}{\\sum}}\\hat{p}_k \\log(\\hat{p}_k)$$\n",
    "where $K$ is the number of classes and $\\hat{p}_k$ is the fraction ..., i.e. $\\hat{p}_k = $.\n",
    "\n",
    "In this example we will only consider _binary_ classification problems and thus the entropy and gini impurity can be reduced to \n",
    "$$J_{gini} = 2\\hat{p}(1-\\hat{p})$$\n",
    "and\n",
    "$$J_{entropy} = \\hat{p}\\log(1-\\hat{p}) + (1-\\hat{p}^{(i)})\\log(\\hat{p})$$\n",
    "\n",
    "For more details please refer to [1]."
   ]
  },
  {
   "cell_type": "markdown",
   "metadata": {},
   "source": [
    "## 3 Implementation\n",
    "This implementation of decision trees consists of three main steps:\n",
    "1. Implement functions to find which feature to split and at which value to make the split.\n",
    "2. Define a structure by which a tree can be represented.\n",
    "3. Implement a way to traverse the grown tree to be able to make predictions."
   ]
  },
  {
   "cell_type": "markdown",
   "metadata": {},
   "source": [
    "### 3.1 Split step"
   ]
  },
  {
   "cell_type": "markdown",
   "metadata": {},
   "source": [
    "#### 3.1.1 Find split value\n",
    "\n",
    "To implement the split step of the algorithm let's first consider the step of finding a split value given a feature $x_i$. This is implemented in the `find_split` method of the `DecisionTree` class and is defined as followed:"
   ]
  },
  {
   "cell_type": "code",
   "execution_count": 6,
   "metadata": {},
   "outputs": [
    {
     "name": "stdout",
     "output_type": "stream",
     "text": [
      "    def find_split(self, feature, y):\n",
      "        \"\"\"Find best split.\n",
      "\n",
      "        Find the best split given the values for the provided feature.\n",
      "\n",
      "        Parameters\n",
      "        ----------\n",
      "        feature : ndarray\n",
      "            An column vector with the values for one feature. Should be of\n",
      "            shape (m,).\n",
      "        y : ndarray\n",
      "            A column vector with the true labels for the column vector\n",
      "            `feature`. Should be of shape (m,).\n",
      "\n",
      "        Returns\n",
      "        -------\n",
      "        cost_low : float\n",
      "            The lowest cost that can be achieved by splitting the feature at\n",
      "            the value `best_split`.\n",
      "        best_split : float\n",
      "            The value in `feature` which is the best split, i.e. the split that\n",
      "            minimize the cost.\n",
      "        \"\"\"\n",
      "        idx_sorted = np.argsort(feature)\n",
      "        feature = feature[idx_sorted]\n",
      "        y = y[idx_sorted]\n",
      "        cost_low = np.inf\n",
      "        best_split = None\n",
      "        for v in np.unique(feature)[:-1]:\n",
      "            r1 = y[feature <= v]\n",
      "            r2 = y[feature > v]\n",
      "            cost = self.eval_split(r1, r2)\n",
      "            if cost < cost_low:\n",
      "                cost_low = cost\n",
      "                next_val = feature[feature > v][0]\n",
      "                best_split = (v + next_val) / 2\n",
      "        return cost_low, best_split\n",
      "\n"
     ]
    }
   ],
   "source": [
    "print(inspect.getsource(DecisionTree.find_split))"
   ]
  },
  {
   "cell_type": "markdown",
   "metadata": {},
   "source": [
    "The rational behind `find_split` is as follows:\n",
    "1. Sort the array `feature` in ascending order and sort the array `y` in corresponding order.\n",
    "2. Initialize the variables `cost_low=np.inf` and `best_split=None`.\n",
    "3. Loop through each of the values in the sorted array `feature` and split `y` into two parts `r1` and `r2`. Compute the impurity for the split and update the variables `cost_low` and `best_split` if the split yields a better split. Note that the `best_split` will not be updated to the actual split value but to the average of the split value and the following value in the the array `feature`. "
   ]
  },
  {
   "cell_type": "markdown",
   "metadata": {},
   "source": [
    "The method `find_split` works for both regression and classification problems. The only thing that differs is how the impurity is calculated. Let´s look at the `eval_split` method that is used in `find_split` to compute the impurity measure for classification problems."
   ]
  },
  {
   "cell_type": "code",
   "execution_count": 7,
   "metadata": {},
   "outputs": [
    {
     "name": "stdout",
     "output_type": "stream",
     "text": [
      "    def eval_split(self, y_left, y_right):\n",
      "        \"\"\"Evaluate a candidate split.\n",
      "\n",
      "        y_left : ndarray\n",
      "            The true target value for one of the two partitions. Should be of\n",
      "            shape (n_left,).\n",
      "        y_right : ndarray\n",
      "            The true target value for one of the two partitions. Should be of\n",
      "            shape (n_right,).\n",
      "\n",
      "        Returns\n",
      "        -------\n",
      "        float\n",
      "            The value of the impurity measure for the given split.\n",
      "        \"\"\"\n",
      "        p_left = np.mean(y_left, keepdims=True)\n",
      "        p_right = np.mean(y_right, keepdims=True)\n",
      "        if self.impurity_measure == 'gini':\n",
      "            c_left = gini(p_left)\n",
      "            c_right = gini(p_right)\n",
      "        else:\n",
      "            c_left = enropy(p_left)\n",
      "            c_right = enropy(p_right)\n",
      "        n_left = y_left.shape[0]\n",
      "        n_right = y_right.shape[0]\n",
      "        n = n_left + n_right\n",
      "        return (n_left / n) * c_left + (n_right / n) * c_right\n",
      "\n"
     ]
    }
   ],
   "source": [
    "print(inspect.getsource(ClassificationTree.eval_split))"
   ]
  },
  {
   "cell_type": "markdown",
   "metadata": {},
   "source": [
    "The structure of the `eval_split` method is the following:\n",
    "1. Compute the mean of the target variable in each of the two partitions `y_left` and `y_right`. \n",
    "2. Compute the cost of the split given an impurity measure. \n",
    "3. Add the cost for each parition by weighting them by the fraction of records in the partition."
   ]
  },
  {
   "cell_type": "markdown",
   "metadata": {},
   "source": [
    "#### 3.1.2 Find feature\n",
    "Now that we have defined how to find the best split value given a choice of feature, we can define how to find the best feature to use for the split. This is implemented in the method `find_feature` of the `DecisionTree` class and is defined as follows: "
   ]
  },
  {
   "cell_type": "code",
   "execution_count": 8,
   "metadata": {},
   "outputs": [
    {
     "name": "stdout",
     "output_type": "stream",
     "text": [
      "    def find_feature(self, X, y):\n",
      "        \"\"\"Find a feature to split.\n",
      "\n",
      "        Parameters\n",
      "        ----------\n",
      "        X : ndarray\n",
      "        y : ndarray\n",
      "\n",
      "        Returns\n",
      "        -------\n",
      "        best_feature : int\n",
      "            The index of the best feature to split.\n",
      "        best_split : float\n",
      "            The best value to split at.\n",
      "        \"\"\"\n",
      "        cost_low = np.inf\n",
      "        best_feature = None\n",
      "        best_split = None\n",
      "        for i in range(X.shape[1]):\n",
      "            cost, split_val = self.find_split(X[:, i], y)\n",
      "            if cost < cost_low:\n",
      "                best_feature = i\n",
      "                best_split = split_val\n",
      "                cost_low = cost\n",
      "        return best_feature, best_split\n",
      "\n"
     ]
    }
   ],
   "source": [
    "print(inspect.getsource(DecisionTree.find_feature))"
   ]
  },
  {
   "cell_type": "markdown",
   "metadata": {},
   "source": [
    "1. The variables `cost_low`, `best_feature` and `best_split` is initialized.\n",
    "2. Loop through each feature in the input data `X` and find the best split value for that feature by calling the `find_split` method.\n",
    "3. If this yields a better split than before, update the variables `best_feature` and `best_split`."
   ]
  },
  {
   "cell_type": "markdown",
   "metadata": {},
   "source": [
    "### 3.2 Building a tree"
   ]
  },
  {
   "cell_type": "markdown",
   "metadata": {},
   "source": [
    "Now we have an implementation for finding the best split given a data set `X`. Thus to build the whole tree we only need to iteratively call the method `find_feature` until all of the regions are pure. However, to be able to make a prediction when the tree is fitted to data we need a way of keeping track of all the features, split values and in which order they should be applied. Therefore, before implementing our `partition` method let´s implement two classes `TreeNode` and `Leaf` which we can use to represent the fitted tree. "
   ]
  },
  {
   "cell_type": "markdown",
   "metadata": {},
   "source": [
    "First let´s implement the class `TreeNode` as shown below. This class only keep record of which feature and at what value that feature should be split at a node in the tree. Also, it keep record of which the left and right child is in the tree which makes it possible to traverse the tree when it is fitted. "
   ]
  },
  {
   "cell_type": "code",
   "execution_count": 9,
   "metadata": {},
   "outputs": [
    {
     "name": "stdout",
     "output_type": "stream",
     "text": [
      "class TreeNode(object):\n",
      "    \"\"\"\n",
      "    This implements a node in a tree which is not a leaf. It is used to store\n",
      "    information about which feature to split and at which value.\n",
      "\n",
      "    Attributes\n",
      "    ----------\n",
      "    feature : int\n",
      "    split_val : float\n",
      "    left_child : TreeNode instance or Leaf instance\n",
      "    right_child : TreeNode instance or Leaf instance\n",
      "    \"\"\"\n",
      "    def __init__(self, feature, split_val, left_child, right_child):\n",
      "        self.feature = feature\n",
      "        self.split_val = split_val\n",
      "        self.left_child = left_child\n",
      "        self.right_child = right_child\n",
      "\n"
     ]
    }
   ],
   "source": [
    "print(inspect.getsource(TreeNode))"
   ]
  },
  {
   "cell_type": "markdown",
   "metadata": {},
   "source": [
    "The implementation of the `Leaf` class is even simpler and does only keep record of one thing, the prediction value or predicted class at that node."
   ]
  },
  {
   "cell_type": "code",
   "execution_count": 10,
   "metadata": {},
   "outputs": [
    {
     "name": "stdout",
     "output_type": "stream",
     "text": [
      "class Leaf(object):\n",
      "    \"\"\"Leaf node.\n",
      "\n",
      "    This implements a leaf node in a tree which is used to store predictions.\n",
      "\n",
      "    Attributes\n",
      "    ----------\n",
      "    pred : int\n",
      "        The predicted label for an observation which ends up in this leaf.\n",
      "    \"\"\"\n",
      "    def __init__(self, pred):\n",
      "        self.pred = int(pred)\n",
      "\n"
     ]
    }
   ],
   "source": [
    "print(inspect.getsource(Leaf))"
   ]
  },
  {
   "cell_type": "markdown",
   "metadata": {},
   "source": [
    "Now that we have a way to represent a tree we can define the method `fit` which will fit a tree given a data set `X` and target variable `y` using the `partition` method. It´s implemented as follows:\n",
    "\n",
    "1. If the input data `y` only contains one label, then the node is pure and `X` cannot be split any further. Therefore a `Leaf` instance is returned with the `prediction` attribute set to the unique label in `y`. This step is performed in the `check_partition` method.\n",
    "2. If we are not at a leaf node, find the best feature to split at and the split value. \n",
    "3. Divide the input data `X` and `y` into two parts at the split value for the selected feature.\n",
    "4. This will continue until the tree is fully grown.\n"
   ]
  },
  {
   "cell_type": "code",
   "execution_count": 11,
   "metadata": {},
   "outputs": [
    {
     "name": "stdout",
     "output_type": "stream",
     "text": [
      "    def fit(self, X, y):\n",
      "        \"\"\"Fit a decision tree model to the data.\n",
      "\n",
      "        Parameters\n",
      "        ----------\n",
      "        X : ndarray\n",
      "            A matrix with the training data.\n",
      "        y : ndarray\n",
      "            A column vector with the true target values.\n",
      "\n",
      "        Returns\n",
      "        self\n",
      "        \"\"\"\n",
      "        self.root = self.partition(X, y)\n",
      "        return self\n",
      "\n"
     ]
    }
   ],
   "source": [
    "print(inspect.getsource(DecisionTree.fit))"
   ]
  },
  {
   "cell_type": "code",
   "execution_count": 12,
   "metadata": {},
   "outputs": [
    {
     "name": "stdout",
     "output_type": "stream",
     "text": [
      "    def partition(self, X, y, depth=0):\n",
      "        \"\"\"Partition the data.\n",
      "\n",
      "        Parameters\n",
      "        ----------\n",
      "        X : ndarray\n",
      "            A matrix with the data.\n",
      "        y : ndarray\n",
      "            A column vector with the true target values.\n",
      "        depth : int\n",
      "            The maximum depth of the tree to grow.\n",
      "\n",
      "        Returns\n",
      "        -------\n",
      "        node : TreeNode instance\n",
      "            A node which represents the root of the fitted tree.\n",
      "        \"\"\"\n",
      "        check = self.check_partition(y, depth)\n",
      "        if isinstance(check, Leaf):\n",
      "            return check\n",
      "\n",
      "        feature, split_val = self.find_feature(X, y)\n",
      "        X_left = X[X[:, feature] <= split_val]\n",
      "        X_right = X[X[:, feature] > split_val]\n",
      "        y_left = y[X[:, feature] <= split_val]\n",
      "        y_right = y[X[:, feature] > split_val]\n",
      "\n",
      "        node = TreeNode(feature, split_val, self.partition(X_left, y_left, depth+1),\n",
      "                        self.partition(X_right, y_right, depth+1))\n",
      "        return node\n",
      "\n"
     ]
    }
   ],
   "source": [
    "print(inspect.getsource(DecisionTree.partition))"
   ]
  },
  {
   "cell_type": "code",
   "execution_count": 13,
   "metadata": {},
   "outputs": [
    {
     "name": "stdout",
     "output_type": "stream",
     "text": [
      "    def check_partition(self, y, depth):\n",
      "        \"\"\"Check if `y` only contains one class or if the maximum depth is\n",
      "        reached.\n",
      "\n",
      "        Parameters\n",
      "        ----------\n",
      "        y : ndarray\n",
      "            An array with class labels.\n",
      "        depth : int\n",
      "            The maximum depth of the tree.\n",
      "\n",
      "        Returns\n",
      "        -------\n",
      "        check : Leaf instance or None\n",
      "            A Leaf instance is returned if either `y` only contains one class\n",
      "            label or if the maximum depth of the tree is reached. Otherwise,\n",
      "            None is returned.\n",
      "        \"\"\"\n",
      "        (y_unique, counts) = np.unique(y, return_counts=True)\n",
      "\n",
      "        if len(y_unique) == 1:\n",
      "            return Leaf(y_unique)\n",
      "\n",
      "        if self.max_depth is None:\n",
      "            return None\n",
      "        elif depth >= self.max_depth:\n",
      "            idx = np.argmax(counts)\n",
      "            val = y_unique[idx]\n",
      "            return Leaf(val)\n",
      "        else:\n",
      "            return None\n",
      "\n"
     ]
    }
   ],
   "source": [
    "print(inspect.getsource(ClassificationTree.check_partition))"
   ]
  },
  {
   "cell_type": "markdown",
   "metadata": {},
   "source": [
    "### 3.3 Predictions"
   ]
  },
  {
   "cell_type": "markdown",
   "metadata": {},
   "source": [
    "We now have an implemention which can be used for fitting a decision tree to a data set. However, we also want to be able to predict new instances of data and we therefore need to implement a `predict` method. To be able to make predictions we need a way to traverse our fitted tree and thus we begin with implementing a `traverse` method. The `traverse` method is a recursive method and will return a prediction when it has gotten to a lead node of the tree."
   ]
  },
  {
   "cell_type": "markdown",
   "metadata": {},
   "source": [
    "The rational behind the `traverse` method is the following:\n",
    "1. Check if the parameter `node` is a `Leaf`instance. If so we have found a leaf node and we can return its attribute `prediction`. \n",
    "2. Otherwise, the node is a `TreeNode` and we can access its attributes `feature` and `split_val` to decide if we should call the `traverse` method for the left or right child of the given node. "
   ]
  },
  {
   "cell_type": "code",
   "execution_count": 14,
   "metadata": {},
   "outputs": [
    {
     "name": "stdout",
     "output_type": "stream",
     "text": [
      "    def traverse(self, X, node):\n",
      "        \"\"\"Traverse the tree.\n",
      "\n",
      "        Parameter\n",
      "        ---------\n",
      "        X : ndarray\n",
      "            A single row of data.\n",
      "        node: TreeNode instance\n",
      "            The node should be the root of the tree.\n",
      "\n",
      "        Returns\n",
      "        -------\n",
      "        pred : float\n",
      "            The prediction for row `X`.\n",
      "        \"\"\"\n",
      "        if isinstance(node, Leaf):\n",
      "            return node.pred\n",
      "        if X[node.feature] <= node.split_val:\n",
      "            return self.traverse(X, node.left_child)\n",
      "        else:\n",
      "            return self.traverse(X, node.right_child)\n",
      "\n"
     ]
    }
   ],
   "source": [
    "print(inspect.getsource(DecisionTree.traverse))"
   ]
  },
  {
   "cell_type": "markdown",
   "metadata": {},
   "source": [
    "Now the only thing that remains is to define our `predict` method which will call the `traverse` method with the root of the tree as the input `node`."
   ]
  },
  {
   "cell_type": "code",
   "execution_count": 15,
   "metadata": {},
   "outputs": [
    {
     "name": "stdout",
     "output_type": "stream",
     "text": [
      "    def predict(self, X, y=None):\n",
      "        \"\"\"Predict the target for a data row `X`.\n",
      "\n",
      "        Parameters\n",
      "        ----------\n",
      "        X : ndarray\n",
      "            A data row of shape (n_features,).\n",
      "\n",
      "        Returns\n",
      "        -------\n",
      "        pred : float or int\n",
      "            Prediction for the data row `X`.\n",
      "        \"\"\"\n",
      "        pred = np.zeros(shape=(X.shape[0], 1))\n",
      "        for i in range(X.shape[0]):\n",
      "            pred[i] = self.traverse(X[i, :], self.root)\n",
      "        return pred\n",
      "\n"
     ]
    }
   ],
   "source": [
    "print(inspect.getsource(DecisionTree.predict))"
   ]
  },
  {
   "cell_type": "markdown",
   "metadata": {},
   "source": [
    "## 4 Test the implementation"
   ]
  },
  {
   "cell_type": "markdown",
   "metadata": {},
   "source": [
    "Now we should have a fully functional implementation of a decision tree. Let´s test it on some generated data sets."
   ]
  },
  {
   "cell_type": "code",
   "execution_count": 16,
   "metadata": {},
   "outputs": [],
   "source": [
    "from sklearn.datasets import make_classification\n",
    "from sklearn.model_selection import train_test_split\n",
    "from sklearn.metrics import accuracy_score"
   ]
  },
  {
   "cell_type": "code",
   "execution_count": 17,
   "metadata": {},
   "outputs": [],
   "source": [
    "from sklearn.tree import DecisionTreeClassifier"
   ]
  },
  {
   "cell_type": "markdown",
   "metadata": {},
   "source": [
    "First lets start with a trivial data set with two classes. As shown in the figure below these two classes should be easily seperatable with one split through the x-axis. "
   ]
  },
  {
   "cell_type": "code",
   "execution_count": 18,
   "metadata": {},
   "outputs": [],
   "source": [
    "X, y = make_classification(n_samples=100, n_features=2, n_informative=2, n_redundant=0, random_state=1,\n",
    "                           class_sep=2)\n",
    "X_train, X_test, y_train, y_test = train_test_split(X, y, random_state=1)"
   ]
  },
  {
   "cell_type": "code",
   "execution_count": 19,
   "metadata": {},
   "outputs": [
    {
     "data": {
      "image/png": "[encoded data removed]",
      "text/plain": [
       "<Figure size 432x288 with 1 Axes>"
      ]
     },
     "metadata": {},
     "output_type": "display_data"
    }
   ],
   "source": [
    "sns.scatterplot(x=X[:,0], y=X[:,1], hue=y, style=y, legend=None)\n",
    "plt.show()"
   ]
  },
  {
   "cell_type": "markdown",
   "metadata": {},
   "source": [
    "As seen in the figure below the algorithm find one split between -1 and 0 through the x-axis which perfectly partition the data set. "
   ]
  },
  {
   "cell_type": "code",
   "execution_count": 20,
   "metadata": {},
   "outputs": [
    {
     "data": {
      "image/png": "[encoded data removed]",
      "text/plain": [
       "<Figure size 432x288 with 1 Axes>"
      ]
     },
     "metadata": {},
     "output_type": "display_data"
    }
   ],
   "source": [
    "tree = ClassificationTree()\n",
    "tree.fit(X_train, y_train)\n",
    "tree.plot_boundaries(X_train, y_train)"
   ]
  },
  {
   "cell_type": "markdown",
   "metadata": {},
   "source": [
    "Now let's try with a data set with two classes but in which the data overlaps."
   ]
  },
  {
   "cell_type": "code",
   "execution_count": 21,
   "metadata": {},
   "outputs": [
    {
     "data": {
      "image/png": "[encoded data removed]",
      "text/plain": [
       "<Figure size 432x288 with 1 Axes>"
      ]
     },
     "metadata": {},
     "output_type": "display_data"
    }
   ],
   "source": [
    "X, y = make_classification(n_samples=100, n_features=2, n_informative=2, n_redundant=0, random_state=9,\n",
    "                           class_sep=0.9)\n",
    "X_train, X_test, y_train, y_test = train_test_split(X, y, random_state=1)\n",
    "sns.scatterplot(x=X[:,0], y=X[:,1], hue=y, style=y, legend=None)\n",
    "plt.show()"
   ]
  },
  {
   "cell_type": "code",
   "execution_count": 22,
   "metadata": {},
   "outputs": [
    {
     "data": {
      "image/png": "[encoded data removed]",
      "text/plain": [
       "<Figure size 432x288 with 1 Axes>"
      ]
     },
     "metadata": {},
     "output_type": "display_data"
    }
   ],
   "source": [
    "tree = ClassificationTree()\n",
    "tree.fit(X_train, y_train)\n",
    "tree.plot_boundaries(X_train, y_train)"
   ]
  },
  {
   "cell_type": "markdown",
   "metadata": {},
   "source": [
    "As seen the previous example, the tree is grown until all leafs are pure. Let's try out `max_depth=1` and see what effect it has on the algorithm. "
   ]
  },
  {
   "cell_type": "code",
   "execution_count": 23,
   "metadata": {},
   "outputs": [
    {
     "data": {
      "image/png": "[encoded data removed]",
      "text/plain": [
       "<Figure size 432x288 with 1 Axes>"
      ]
     },
     "metadata": {},
     "output_type": "display_data"
    }
   ],
   "source": [
    "tree = ClassificationTree(max_depth=1)\n",
    "tree.fit(X_train, y_train)\n",
    "tree.plot_boundaries(X_train, y_train)"
   ]
  },
  {
   "cell_type": "markdown",
   "metadata": {},
   "source": [
    "When setting `max_depth=1` the tree will only make one split. For this simple data set it seems to giver rather good results."
   ]
  },
  {
   "cell_type": "markdown",
   "metadata": {},
   "source": [
    "## 5. References"
   ]
  },
  {
   "cell_type": "markdown",
   "metadata": {},
   "source": [
    "[1] T. Hastie, R. Tibshirani and J. H. Friedman, _The elements of statistical learning: data mining, inference, and\n",
    "prediction_. New York: Springer, 2 ed., 2009. "
   ]
  }
 ],
 "metadata": {
  "kernelspec": {
   "display_name": "ml-algo",
   "language": "python",
   "name": "ml-algo"
  },
  "language_info": {
   "codemirror_mode": {
    "name": "ipython",
    "version": 3
   },
   "file_extension": ".py",
   "mimetype": "text/x-python",
   "name": "python",
   "nbconvert_exporter": "python",
   "pygments_lexer": "ipython3",
   "version": "3.7.10"
  }
 },
 "nbformat": 4,
 "nbformat_minor": 4
}
